{
 "cells": [
  {
   "cell_type": "markdown",
   "metadata": {},
   "source": [
    "Imports and Paths"
   ]
  },
  {
   "cell_type": "code",
   "execution_count": 15,
   "metadata": {},
   "outputs": [
    {
     "name": "stdout",
     "output_type": "stream",
     "text": [
      "Path to dataset files: C:\\Users\\puppy\\.cache\\kagglehub\\datasets\\martinellis\\nhl-game-data\\versions\\2\n"
     ]
    },
    {
     "data": {
      "text/plain": [
       "[WindowsPath('C:/Users/puppy/.cache/kagglehub/datasets/martinellis/nhl-game-data/versions/2/game.csv'),\n",
       " WindowsPath('C:/Users/puppy/.cache/kagglehub/datasets/martinellis/nhl-game-data/versions/2/game_goalie_stats.csv'),\n",
       " WindowsPath('C:/Users/puppy/.cache/kagglehub/datasets/martinellis/nhl-game-data/versions/2/game_goals.csv'),\n",
       " WindowsPath('C:/Users/puppy/.cache/kagglehub/datasets/martinellis/nhl-game-data/versions/2/game_officials.csv'),\n",
       " WindowsPath('C:/Users/puppy/.cache/kagglehub/datasets/martinellis/nhl-game-data/versions/2/game_penalties.csv'),\n",
       " WindowsPath('C:/Users/puppy/.cache/kagglehub/datasets/martinellis/nhl-game-data/versions/2/game_plays.csv'),\n",
       " WindowsPath('C:/Users/puppy/.cache/kagglehub/datasets/martinellis/nhl-game-data/versions/2/game_plays_players.csv'),\n",
       " WindowsPath('C:/Users/puppy/.cache/kagglehub/datasets/martinellis/nhl-game-data/versions/2/game_scratches.csv'),\n",
       " WindowsPath('C:/Users/puppy/.cache/kagglehub/datasets/martinellis/nhl-game-data/versions/2/game_shifts.csv'),\n",
       " WindowsPath('C:/Users/puppy/.cache/kagglehub/datasets/martinellis/nhl-game-data/versions/2/game_skater_stats.csv'),\n",
       " WindowsPath('C:/Users/puppy/.cache/kagglehub/datasets/martinellis/nhl-game-data/versions/2/game_teams_stats.csv'),\n",
       " WindowsPath('C:/Users/puppy/.cache/kagglehub/datasets/martinellis/nhl-game-data/versions/2/player_info.csv'),\n",
       " WindowsPath('C:/Users/puppy/.cache/kagglehub/datasets/martinellis/nhl-game-data/versions/2/team_info.csv')]"
      ]
     },
     "execution_count": 15,
     "metadata": {},
     "output_type": "execute_result"
    }
   ],
   "source": [
    "import kagglehub, pathlib, pandas as pd\n",
    "\n",
    "path = pathlib.Path(kagglehub.dataset_download(\"martinellis/nhl-game-data\"))\n",
    "print(\"Path to dataset files:\", path)\n",
    "\n",
    "\n",
    "# See what files are available\n",
    "list(path.glob(\"*.csv\"))\n"
   ]
  },
  {
   "cell_type": "code",
   "execution_count": 16,
   "metadata": {},
   "outputs": [
    {
     "data": {
      "text/plain": [
       "((26305, 15), (52610, 17), (33, 6))"
      ]
     },
     "execution_count": 16,
     "metadata": {},
     "output_type": "execute_result"
    }
   ],
   "source": [
    "import pandas as pd\n",
    "import matplotlib.pyplot as plt\n",
    "\n",
    "games = pd.read_csv(path / \"game.csv\", low_memory=False)\n",
    "team_stats = pd.read_csv(path / \"game_teams_stats.csv\", low_memory=False)  # <-- fix here\n",
    "teams = pd.read_csv(path / \"team_info.csv\", low_memory=False)\n",
    "\n",
    "games.shape, team_stats.shape, teams.shape\n"
   ]
  },
  {
   "cell_type": "markdown",
   "metadata": {},
   "source": [
    "Column Check"
   ]
  },
  {
   "cell_type": "code",
   "execution_count": 17,
   "metadata": {},
   "outputs": [
    {
     "data": {
      "text/plain": [
       "['game_id',\n",
       " 'team_id',\n",
       " 'HoA',\n",
       " 'won',\n",
       " 'settled_in',\n",
       " 'head_coach',\n",
       " 'goals',\n",
       " 'shots',\n",
       " 'hits',\n",
       " 'pim',\n",
       " 'powerPlayOpportunities',\n",
       " 'powerPlayGoals',\n",
       " 'faceOffWinPercentage',\n",
       " 'giveaways',\n",
       " 'takeaways',\n",
       " 'blocked',\n",
       " 'startRinkSide']"
      ]
     },
     "execution_count": 17,
     "metadata": {},
     "output_type": "execute_result"
    }
   ],
   "source": [
    "team_stats.columns.tolist()\n"
   ]
  },
  {
   "cell_type": "markdown",
   "metadata": {},
   "source": [
    "Preprocess"
   ]
  },
  {
   "cell_type": "code",
   "execution_count": 18,
   "metadata": {},
   "outputs": [
    {
     "data": {
      "text/html": [
       "<div>\n",
       "<style scoped>\n",
       "    .dataframe tbody tr th:only-of-type {\n",
       "        vertical-align: middle;\n",
       "    }\n",
       "\n",
       "    .dataframe tbody tr th {\n",
       "        vertical-align: top;\n",
       "    }\n",
       "\n",
       "    .dataframe thead th {\n",
       "        text-align: right;\n",
       "    }\n",
       "</style>\n",
       "<table border=\"1\" class=\"dataframe\">\n",
       "  <thead>\n",
       "    <tr style=\"text-align: right;\">\n",
       "      <th></th>\n",
       "      <th>game_id</th>\n",
       "      <th>team_id</th>\n",
       "      <th>HoA</th>\n",
       "      <th>won</th>\n",
       "      <th>settled_in</th>\n",
       "      <th>head_coach</th>\n",
       "      <th>goals</th>\n",
       "      <th>shots</th>\n",
       "      <th>hits</th>\n",
       "      <th>pim</th>\n",
       "      <th>powerPlayOpportunities</th>\n",
       "      <th>powerPlayGoals</th>\n",
       "      <th>faceOffWinPercentage</th>\n",
       "      <th>giveaways</th>\n",
       "      <th>takeaways</th>\n",
       "      <th>blocked</th>\n",
       "      <th>startRinkSide</th>\n",
       "      <th>home</th>\n",
       "      <th>season</th>\n",
       "    </tr>\n",
       "  </thead>\n",
       "  <tbody>\n",
       "    <tr>\n",
       "      <th>0</th>\n",
       "      <td>2016020045</td>\n",
       "      <td>4</td>\n",
       "      <td>away</td>\n",
       "      <td>False</td>\n",
       "      <td>REG</td>\n",
       "      <td>Dave Hakstol</td>\n",
       "      <td>4.0</td>\n",
       "      <td>27.0</td>\n",
       "      <td>30.0</td>\n",
       "      <td>6.0</td>\n",
       "      <td>4.0</td>\n",
       "      <td>2.0</td>\n",
       "      <td>50.9</td>\n",
       "      <td>12.0</td>\n",
       "      <td>9.0</td>\n",
       "      <td>11.0</td>\n",
       "      <td>left</td>\n",
       "      <td>0</td>\n",
       "      <td>20162017</td>\n",
       "    </tr>\n",
       "    <tr>\n",
       "      <th>1</th>\n",
       "      <td>2016020045</td>\n",
       "      <td>16</td>\n",
       "      <td>home</td>\n",
       "      <td>True</td>\n",
       "      <td>REG</td>\n",
       "      <td>Joel Quenneville</td>\n",
       "      <td>7.0</td>\n",
       "      <td>28.0</td>\n",
       "      <td>20.0</td>\n",
       "      <td>8.0</td>\n",
       "      <td>3.0</td>\n",
       "      <td>2.0</td>\n",
       "      <td>49.1</td>\n",
       "      <td>16.0</td>\n",
       "      <td>8.0</td>\n",
       "      <td>9.0</td>\n",
       "      <td>left</td>\n",
       "      <td>1</td>\n",
       "      <td>20162017</td>\n",
       "    </tr>\n",
       "    <tr>\n",
       "      <th>2</th>\n",
       "      <td>2017020812</td>\n",
       "      <td>24</td>\n",
       "      <td>away</td>\n",
       "      <td>True</td>\n",
       "      <td>OT</td>\n",
       "      <td>Randy Carlyle</td>\n",
       "      <td>4.0</td>\n",
       "      <td>34.0</td>\n",
       "      <td>16.0</td>\n",
       "      <td>6.0</td>\n",
       "      <td>3.0</td>\n",
       "      <td>1.0</td>\n",
       "      <td>43.8</td>\n",
       "      <td>7.0</td>\n",
       "      <td>4.0</td>\n",
       "      <td>14.0</td>\n",
       "      <td>right</td>\n",
       "      <td>0</td>\n",
       "      <td>20172018</td>\n",
       "    </tr>\n",
       "  </tbody>\n",
       "</table>\n",
       "</div>"
      ],
      "text/plain": [
       "      game_id  team_id   HoA    won settled_in        head_coach  goals  \\\n",
       "0  2016020045        4  away  False        REG      Dave Hakstol    4.0   \n",
       "1  2016020045       16  home   True        REG  Joel Quenneville    7.0   \n",
       "2  2017020812       24  away   True         OT     Randy Carlyle    4.0   \n",
       "\n",
       "   shots  hits  pim  powerPlayOpportunities  powerPlayGoals  \\\n",
       "0   27.0  30.0  6.0                     4.0             2.0   \n",
       "1   28.0  20.0  8.0                     3.0             2.0   \n",
       "2   34.0  16.0  6.0                     3.0             1.0   \n",
       "\n",
       "   faceOffWinPercentage  giveaways  takeaways  blocked startRinkSide  home  \\\n",
       "0                  50.9       12.0        9.0     11.0          left     0   \n",
       "1                  49.1       16.0        8.0      9.0          left     1   \n",
       "2                  43.8        7.0        4.0     14.0         right     0   \n",
       "\n",
       "     season  \n",
       "0  20162017  \n",
       "1  20162017  \n",
       "2  20172018  "
      ]
     },
     "execution_count": 18,
     "metadata": {},
     "output_type": "execute_result"
    }
   ],
   "source": [
    "df = team_stats.copy()\n",
    "\n",
    "# outcome -> boolean\n",
    "df[\"won\"] = df[\"won\"].astype(str).str.lower().isin([\"true\",\"1\",\"yes\",\"y\"])\n",
    "\n",
    "# home/away flag\n",
    "df[\"home\"] = (df[\"HoA\"].astype(str).str.upper() == \"HOME\").astype(int)\n",
    "\n",
    "# add season\n",
    "if \"game_id\" in df.columns and \"season\" in games.columns:\n",
    "    df = df.merge(games[[\"game_id\",\"season\"]], on=\"game_id\", how=\"left\")\n",
    "\n",
    "# simple NA handling for numerics\n",
    "for c in df.select_dtypes(\"number\"):\n",
    "    df[c] = df[c].fillna(df[c].median())\n",
    "\n",
    "df.head(3)\n"
   ]
  },
  {
   "cell_type": "markdown",
   "metadata": {},
   "source": [
    "Starter Charts"
   ]
  },
  {
   "cell_type": "code",
   "execution_count": 19,
   "metadata": {},
   "outputs": [
    {
     "data": {
      "image/png": "[encoded data removed]",
      "text/plain": [
       "<Figure size 640x480 with 1 Axes>"
      ]
     },
     "metadata": {},
     "output_type": "display_data"
    },
    {
     "data": {
      "image/png": "[encoded data removed]",
      "text/plain": [
       "<Figure size 640x480 with 1 Axes>"
      ]
     },
     "metadata": {},
     "output_type": "display_data"
    },
    {
     "name": "stderr",
     "output_type": "stream",
     "text": [
      "C:\\Users\\puppy\\AppData\\Local\\Temp\\ipykernel_27800\\3770277128.py:15: FutureWarning: The default of observed=False is deprecated and will be changed to True in a future version of pandas. Pass observed=False to retain current behavior or observed=True to adopt the future default and silence this warning.\n",
      "  .groupby(\"pim_bin\")[\"won\"].mean().mul(100)).plot(kind=\"bar\")\n"
     ]
    },
    {
     "data": {
      "image/png": "[encoded data removed]",
      "text/plain": [
       "<Figure size 640x480 with 1 Axes>"
      ]
     },
     "metadata": {},
     "output_type": "display_data"
    }
   ],
   "source": [
    "import matplotlib.pyplot as plt\n",
    "# Home vs Away win %\n",
    "(df.groupby(\"home\")[\"won\"].mean().mul(100)).plot(kind=\"bar\")\n",
    "plt.title(\"Win Rate: Home (1) vs Away (0)\")\n",
    "plt.ylabel(\"Win %\"); plt.show()\n",
    "\n",
    "# Shots vs Goals\n",
    "if {\"shots\",\"goals\"}.issubset(df.columns):\n",
    "    df.plot(kind=\"scatter\", x=\"shots\", y=\"goals\", alpha=0.3)\n",
    "    plt.title(\"Shots vs Goals\"); plt.show()\n",
    "\n",
    "# Win % by Penalty Minutes (quintiles)\n",
    "if {\"pim\",\"won\"}.issubset(df.columns):\n",
    "    (df.assign(pim_bin=pd.qcut(df[\"pim\"], 5, duplicates=\"drop\"))\n",
    "       .groupby(\"pim_bin\")[\"won\"].mean().mul(100)).plot(kind=\"bar\")\n",
    "    plt.title(\"Win % by Penalty Minutes\"); plt.ylabel(\"Win %\"); plt.show()\n"
   ]
  },
  {
   "cell_type": "markdown",
   "metadata": {},
   "source": [
    "load game data"
   ]
  },
  {
   "cell_type": "code",
   "execution_count": 20,
   "metadata": {},
   "outputs": [
    {
     "data": {
      "text/plain": [
       "((26305, 15), (52610, 17), (33, 6))"
      ]
     },
     "execution_count": 20,
     "metadata": {},
     "output_type": "execute_result"
    }
   ],
   "source": [
    "import pandas as pd\n",
    "\n",
    "games = pd.read_csv(path / \"game.csv\", low_memory=False)\n",
    "team_stats = pd.read_csv(path / \"game_teams_stats.csv\", low_memory=False)\n",
    "teams = pd.read_csv(path / \"team_info.csv\", low_memory=False)\n",
    "\n",
    "games.shape, team_stats.shape, teams.shape\n"
   ]
  },
  {
   "cell_type": "markdown",
   "metadata": {},
   "source": [
    "preprocess"
   ]
  },
  {
   "cell_type": "code",
   "execution_count": 21,
   "metadata": {},
   "outputs": [
    {
     "data": {
      "text/html": [
       "<div>\n",
       "<style scoped>\n",
       "    .dataframe tbody tr th:only-of-type {\n",
       "        vertical-align: middle;\n",
       "    }\n",
       "\n",
       "    .dataframe tbody tr th {\n",
       "        vertical-align: top;\n",
       "    }\n",
       "\n",
       "    .dataframe thead th {\n",
       "        text-align: right;\n",
       "    }\n",
       "</style>\n",
       "<table border=\"1\" class=\"dataframe\">\n",
       "  <thead>\n",
       "    <tr style=\"text-align: right;\">\n",
       "      <th></th>\n",
       "      <th>game_id</th>\n",
       "      <th>team_id</th>\n",
       "      <th>HoA</th>\n",
       "      <th>won</th>\n",
       "      <th>settled_in</th>\n",
       "      <th>head_coach</th>\n",
       "      <th>goals</th>\n",
       "      <th>shots</th>\n",
       "      <th>hits</th>\n",
       "      <th>pim</th>\n",
       "      <th>powerPlayOpportunities</th>\n",
       "      <th>powerPlayGoals</th>\n",
       "      <th>faceOffWinPercentage</th>\n",
       "      <th>giveaways</th>\n",
       "      <th>takeaways</th>\n",
       "      <th>blocked</th>\n",
       "      <th>startRinkSide</th>\n",
       "      <th>home</th>\n",
       "      <th>season</th>\n",
       "    </tr>\n",
       "  </thead>\n",
       "  <tbody>\n",
       "    <tr>\n",
       "      <th>0</th>\n",
       "      <td>2016020045</td>\n",
       "      <td>4</td>\n",
       "      <td>away</td>\n",
       "      <td>False</td>\n",
       "      <td>REG</td>\n",
       "      <td>Dave Hakstol</td>\n",
       "      <td>4.0</td>\n",
       "      <td>27.0</td>\n",
       "      <td>30.0</td>\n",
       "      <td>6.0</td>\n",
       "      <td>4.0</td>\n",
       "      <td>2.0</td>\n",
       "      <td>50.9</td>\n",
       "      <td>12.0</td>\n",
       "      <td>9.0</td>\n",
       "      <td>11.0</td>\n",
       "      <td>left</td>\n",
       "      <td>0</td>\n",
       "      <td>20162017</td>\n",
       "    </tr>\n",
       "    <tr>\n",
       "      <th>1</th>\n",
       "      <td>2016020045</td>\n",
       "      <td>16</td>\n",
       "      <td>home</td>\n",
       "      <td>True</td>\n",
       "      <td>REG</td>\n",
       "      <td>Joel Quenneville</td>\n",
       "      <td>7.0</td>\n",
       "      <td>28.0</td>\n",
       "      <td>20.0</td>\n",
       "      <td>8.0</td>\n",
       "      <td>3.0</td>\n",
       "      <td>2.0</td>\n",
       "      <td>49.1</td>\n",
       "      <td>16.0</td>\n",
       "      <td>8.0</td>\n",
       "      <td>9.0</td>\n",
       "      <td>left</td>\n",
       "      <td>1</td>\n",
       "      <td>20162017</td>\n",
       "    </tr>\n",
       "    <tr>\n",
       "      <th>2</th>\n",
       "      <td>2017020812</td>\n",
       "      <td>24</td>\n",
       "      <td>away</td>\n",
       "      <td>True</td>\n",
       "      <td>OT</td>\n",
       "      <td>Randy Carlyle</td>\n",
       "      <td>4.0</td>\n",
       "      <td>34.0</td>\n",
       "      <td>16.0</td>\n",
       "      <td>6.0</td>\n",
       "      <td>3.0</td>\n",
       "      <td>1.0</td>\n",
       "      <td>43.8</td>\n",
       "      <td>7.0</td>\n",
       "      <td>4.0</td>\n",
       "      <td>14.0</td>\n",
       "      <td>right</td>\n",
       "      <td>0</td>\n",
       "      <td>20172018</td>\n",
       "    </tr>\n",
       "  </tbody>\n",
       "</table>\n",
       "</div>"
      ],
      "text/plain": [
       "      game_id  team_id   HoA    won settled_in        head_coach  goals  \\\n",
       "0  2016020045        4  away  False        REG      Dave Hakstol    4.0   \n",
       "1  2016020045       16  home   True        REG  Joel Quenneville    7.0   \n",
       "2  2017020812       24  away   True         OT     Randy Carlyle    4.0   \n",
       "\n",
       "   shots  hits  pim  powerPlayOpportunities  powerPlayGoals  \\\n",
       "0   27.0  30.0  6.0                     4.0             2.0   \n",
       "1   28.0  20.0  8.0                     3.0             2.0   \n",
       "2   34.0  16.0  6.0                     3.0             1.0   \n",
       "\n",
       "   faceOffWinPercentage  giveaways  takeaways  blocked startRinkSide  home  \\\n",
       "0                  50.9       12.0        9.0     11.0          left     0   \n",
       "1                  49.1       16.0        8.0      9.0          left     1   \n",
       "2                  43.8        7.0        4.0     14.0         right     0   \n",
       "\n",
       "     season  \n",
       "0  20162017  \n",
       "1  20162017  \n",
       "2  20172018  "
      ]
     },
     "execution_count": 21,
     "metadata": {},
     "output_type": "execute_result"
    }
   ],
   "source": [
    "df = team_stats.copy()\n",
    "\n",
    "# Normalize \"won\" column to True/False\n",
    "if \"won\" in df.columns:\n",
    "    df[\"won\"] = df[\"won\"].astype(str).str.lower().isin([\"true\",\"1\",\"yes\",\"y\"])\n",
    "\n",
    "# Convert Home/Away to numeric flag\n",
    "if \"HoA\" in df.columns:\n",
    "    df[\"home\"] = (df[\"HoA\"].astype(str).str.upper() == \"HOME\").astype(int)\n",
    "\n",
    "# Merge season info\n",
    "if \"game_id\" in df.columns and \"season\" in games.columns:\n",
    "    df = df.merge(games[[\"game_id\",\"season\"]], on=\"game_id\", how=\"left\")\n",
    "\n",
    "# Fill numeric missing values with medians\n",
    "for c in df.select_dtypes(\"number\"):\n",
    "    df[c] = df[c].fillna(df[c].median())\n",
    "\n",
    "df.head(3)\n"
   ]
  },
  {
   "cell_type": "code",
   "execution_count": 22,
   "metadata": {},
   "outputs": [
    {
     "data": {
      "image/png": "[encoded data removed]",
      "text/plain": [
       "<Figure size 640x480 with 1 Axes>"
      ]
     },
     "metadata": {},
     "output_type": "display_data"
    },
    {
     "data": {
      "image/png": "[encoded data removed]",
      "text/plain": [
       "<Figure size 640x480 with 1 Axes>"
      ]
     },
     "metadata": {},
     "output_type": "display_data"
    },
    {
     "name": "stderr",
     "output_type": "stream",
     "text": [
      "C:\\Users\\puppy\\AppData\\Local\\Temp\\ipykernel_27800\\1928583970.py:19: FutureWarning: The default of observed=False is deprecated and will be changed to True in a future version of pandas. Pass observed=False to retain current behavior or observed=True to adopt the future default and silence this warning.\n",
      "  .groupby(\"pim_bin\")[\"won\"].mean().mul(100)).plot(kind=\"bar\")\n"
     ]
    },
    {
     "data": {
      "image/png": "[encoded data removed]",
      "text/plain": [
       "<Figure size 640x480 with 1 Axes>"
      ]
     },
     "metadata": {},
     "output_type": "display_data"
    }
   ],
   "source": [
    "import matplotlib.pyplot as plt\n",
    "\n",
    "# Home vs Away win %\n",
    "if {\"home\",\"won\"}.issubset(df.columns):\n",
    "    (df.groupby(\"home\")[\"won\"].mean().mul(100)).plot(kind=\"bar\")\n",
    "    plt.title(\"Win Rate: Home (1) vs Away (0)\")\n",
    "    plt.ylabel(\"Win %\")\n",
    "    plt.show()\n",
    "\n",
    "# Shots vs Goals\n",
    "if {\"shots\",\"goals\"}.issubset(df.columns):\n",
    "    df.plot(kind=\"scatter\", x=\"shots\", y=\"goals\", alpha=0.3)\n",
    "    plt.title(\"Shots vs Goals\")\n",
    "    plt.show()\n",
    "\n",
    "# Win % by Penalty Minutes\n",
    "if {\"pim\",\"won\"}.issubset(df.columns):\n",
    "    (df.assign(pim_bin=pd.qcut(df[\"pim\"], 5, duplicates=\"drop\"))\n",
    "       .groupby(\"pim_bin\")[\"won\"].mean().mul(100)).plot(kind=\"bar\")\n",
    "    plt.title(\"Win % by Penalty Minutes (quintiles)\")\n",
    "    plt.ylabel(\"Win %\")\n",
    "    plt.show()\n"
   ]
  },
  {
   "cell_type": "markdown",
   "metadata": {},
   "source": [
    "Markdown Outline\n",
    "\n",
    "# Project 1 — NHL Game Data\n",
    "\n",
    "## 1. Problem / Questions\n",
    "- Does home-ice advantage matter?\n",
    "- Do more penalty minutes reduce win %?\n",
    "- (Optional: How do shots, PP goals, or faceoffs relate to outcomes?)\n",
    "\n",
    "## 2. Data Introduction\n",
    "- Dataset: [NHL Game Data on Kaggle](https://www.kaggle.com/datasets/martinellis/nhl-game-data)\n",
    "- Files: game.csv, game_teams_stats.csv, team_info.csv\n",
    "- Key features: game_id, team_id, HoA, won, goals, shots, pim, powerPlayGoals, faceOffWinPercentage, season\n",
    "\n",
    "## 3. Preprocessing\n",
    "- Normalize boolean columns (won)\n",
    "- Convert HoA to numeric\n",
    "- Merge season data\n",
    "- Handle missing values\n",
    "\n",
    "## 4. Exploration & Visualizations\n",
    "- Home vs Away win %\n",
    "- Shots vs Goals scatter\n",
    "- Win % by Penalty Minutes\n",
    "\n",
    "## 5. Storytelling / Findings\n",
    "- Summarize results, connect them back to your questions\n",
    "\n",
    "## 6. Impact / Limitations\n",
    "- Correlation vs causation\n",
    "- Data coverage (seasons included)\n",
    "- Missing features (goalie performance, strength of schedule, etc.)\n",
    "\n",
    "## 7. References\n",
    "- [Kaggle dataset link](https://www.kaggle.com/datasets/martinellis/nhl-game-data)\n"
   ]
  },
  {
   "cell_type": "code",
   "execution_count": 24,
   "metadata": {},
   "outputs": [
    {
     "data": {
      "text/html": [
       "<div>\n",
       "<style scoped>\n",
       "    .dataframe tbody tr th:only-of-type {\n",
       "        vertical-align: middle;\n",
       "    }\n",
       "\n",
       "    .dataframe tbody tr th {\n",
       "        vertical-align: top;\n",
       "    }\n",
       "\n",
       "    .dataframe thead th {\n",
       "        text-align: right;\n",
       "    }\n",
       "</style>\n",
       "<table border=\"1\" class=\"dataframe\">\n",
       "  <thead>\n",
       "    <tr style=\"text-align: right;\">\n",
       "      <th></th>\n",
       "      <th>game_id</th>\n",
       "      <th>team_id</th>\n",
       "      <th>goals</th>\n",
       "      <th>shots</th>\n",
       "      <th>hits</th>\n",
       "      <th>pim</th>\n",
       "      <th>powerPlayOpportunities</th>\n",
       "      <th>powerPlayGoals</th>\n",
       "      <th>faceOffWinPercentage</th>\n",
       "      <th>giveaways</th>\n",
       "      <th>takeaways</th>\n",
       "      <th>blocked</th>\n",
       "      <th>home</th>\n",
       "      <th>season</th>\n",
       "    </tr>\n",
       "  </thead>\n",
       "  <tbody>\n",
       "    <tr>\n",
       "      <th>count</th>\n",
       "      <td>6.289000e+04</td>\n",
       "      <td>62890.000000</td>\n",
       "      <td>62890.000000</td>\n",
       "      <td>62890.000000</td>\n",
       "      <td>62890.000000</td>\n",
       "      <td>62890.000000</td>\n",
       "      <td>62890.000000</td>\n",
       "      <td>62890.000000</td>\n",
       "      <td>62890.000000</td>\n",
       "      <td>62890.000000</td>\n",
       "      <td>62890.000000</td>\n",
       "      <td>62890.000000</td>\n",
       "      <td>62890.000000</td>\n",
       "      <td>6.289000e+04</td>\n",
       "    </tr>\n",
       "    <tr>\n",
       "      <th>mean</th>\n",
       "      <td>2.012028e+09</td>\n",
       "      <td>17.251741</td>\n",
       "      <td>2.811814</td>\n",
       "      <td>30.169900</td>\n",
       "      <td>21.433153</td>\n",
       "      <td>11.213547</td>\n",
       "      <td>3.575115</td>\n",
       "      <td>0.654492</td>\n",
       "      <td>49.984106</td>\n",
       "      <td>9.101161</td>\n",
       "      <td>6.812768</td>\n",
       "      <td>13.439434</td>\n",
       "      <td>0.500000</td>\n",
       "      <td>2.012208e+07</td>\n",
       "    </tr>\n",
       "    <tr>\n",
       "      <th>std</th>\n",
       "      <td>6.250068e+06</td>\n",
       "      <td>11.770953</td>\n",
       "      <td>1.668041</td>\n",
       "      <td>6.909852</td>\n",
       "      <td>8.844509</td>\n",
       "      <td>8.714441</td>\n",
       "      <td>1.827873</td>\n",
       "      <td>0.804326</td>\n",
       "      <td>5.880169</td>\n",
       "      <td>5.239990</td>\n",
       "      <td>3.959832</td>\n",
       "      <td>5.275407</td>\n",
       "      <td>0.500004</td>\n",
       "      <td>6.250359e+04</td>\n",
       "    </tr>\n",
       "    <tr>\n",
       "      <th>min</th>\n",
       "      <td>2.000020e+09</td>\n",
       "      <td>1.000000</td>\n",
       "      <td>0.000000</td>\n",
       "      <td>0.000000</td>\n",
       "      <td>0.000000</td>\n",
       "      <td>0.000000</td>\n",
       "      <td>0.000000</td>\n",
       "      <td>0.000000</td>\n",
       "      <td>0.000000</td>\n",
       "      <td>0.000000</td>\n",
       "      <td>0.000000</td>\n",
       "      <td>0.000000</td>\n",
       "      <td>0.000000</td>\n",
       "      <td>2.000200e+07</td>\n",
       "    </tr>\n",
       "    <tr>\n",
       "      <th>25%</th>\n",
       "      <td>2.007020e+09</td>\n",
       "      <td>8.000000</td>\n",
       "      <td>2.000000</td>\n",
       "      <td>25.000000</td>\n",
       "      <td>16.000000</td>\n",
       "      <td>6.000000</td>\n",
       "      <td>2.000000</td>\n",
       "      <td>0.000000</td>\n",
       "      <td>47.900000</td>\n",
       "      <td>5.000000</td>\n",
       "      <td>4.000000</td>\n",
       "      <td>10.000000</td>\n",
       "      <td>0.000000</td>\n",
       "      <td>2.007201e+07</td>\n",
       "    </tr>\n",
       "    <tr>\n",
       "      <th>50%</th>\n",
       "      <td>2.013021e+09</td>\n",
       "      <td>16.000000</td>\n",
       "      <td>3.000000</td>\n",
       "      <td>30.000000</td>\n",
       "      <td>21.000000</td>\n",
       "      <td>9.000000</td>\n",
       "      <td>3.000000</td>\n",
       "      <td>0.000000</td>\n",
       "      <td>50.000000</td>\n",
       "      <td>9.000000</td>\n",
       "      <td>6.000000</td>\n",
       "      <td>13.000000</td>\n",
       "      <td>0.500000</td>\n",
       "      <td>2.013201e+07</td>\n",
       "    </tr>\n",
       "    <tr>\n",
       "      <th>75%</th>\n",
       "      <td>2.018021e+09</td>\n",
       "      <td>24.000000</td>\n",
       "      <td>4.000000</td>\n",
       "      <td>35.000000</td>\n",
       "      <td>26.000000</td>\n",
       "      <td>14.000000</td>\n",
       "      <td>5.000000</td>\n",
       "      <td>1.000000</td>\n",
       "      <td>52.100000</td>\n",
       "      <td>12.000000</td>\n",
       "      <td>9.000000</td>\n",
       "      <td>16.000000</td>\n",
       "      <td>1.000000</td>\n",
       "      <td>2.018202e+07</td>\n",
       "    </tr>\n",
       "    <tr>\n",
       "      <th>max</th>\n",
       "      <td>2.019041e+09</td>\n",
       "      <td>90.000000</td>\n",
       "      <td>12.000000</td>\n",
       "      <td>88.000000</td>\n",
       "      <td>80.000000</td>\n",
       "      <td>213.000000</td>\n",
       "      <td>16.000000</td>\n",
       "      <td>7.000000</td>\n",
       "      <td>79.200000</td>\n",
       "      <td>52.000000</td>\n",
       "      <td>40.000000</td>\n",
       "      <td>62.000000</td>\n",
       "      <td>1.000000</td>\n",
       "      <td>2.019202e+07</td>\n",
       "    </tr>\n",
       "  </tbody>\n",
       "</table>\n",
       "</div>"
      ],
      "text/plain": [
       "            game_id       team_id         goals         shots          hits  \\\n",
       "count  6.289000e+04  62890.000000  62890.000000  62890.000000  62890.000000   \n",
       "mean   2.012028e+09     17.251741      2.811814     30.169900     21.433153   \n",
       "std    6.250068e+06     11.770953      1.668041      6.909852      8.844509   \n",
       "min    2.000020e+09      1.000000      0.000000      0.000000      0.000000   \n",
       "25%    2.007020e+09      8.000000      2.000000     25.000000     16.000000   \n",
       "50%    2.013021e+09     16.000000      3.000000     30.000000     21.000000   \n",
       "75%    2.018021e+09     24.000000      4.000000     35.000000     26.000000   \n",
       "max    2.019041e+09     90.000000     12.000000     88.000000     80.000000   \n",
       "\n",
       "                pim  powerPlayOpportunities  powerPlayGoals  \\\n",
       "count  62890.000000            62890.000000    62890.000000   \n",
       "mean      11.213547                3.575115        0.654492   \n",
       "std        8.714441                1.827873        0.804326   \n",
       "min        0.000000                0.000000        0.000000   \n",
       "25%        6.000000                2.000000        0.000000   \n",
       "50%        9.000000                3.000000        0.000000   \n",
       "75%       14.000000                5.000000        1.000000   \n",
       "max      213.000000               16.000000        7.000000   \n",
       "\n",
       "       faceOffWinPercentage     giveaways     takeaways       blocked  \\\n",
       "count          62890.000000  62890.000000  62890.000000  62890.000000   \n",
       "mean              49.984106      9.101161      6.812768     13.439434   \n",
       "std                5.880169      5.239990      3.959832      5.275407   \n",
       "min                0.000000      0.000000      0.000000      0.000000   \n",
       "25%               47.900000      5.000000      4.000000     10.000000   \n",
       "50%               50.000000      9.000000      6.000000     13.000000   \n",
       "75%               52.100000     12.000000      9.000000     16.000000   \n",
       "max               79.200000     52.000000     40.000000     62.000000   \n",
       "\n",
       "               home        season  \n",
       "count  62890.000000  6.289000e+04  \n",
       "mean       0.500000  2.012208e+07  \n",
       "std        0.500004  6.250359e+04  \n",
       "min        0.000000  2.000200e+07  \n",
       "25%        0.000000  2.007201e+07  \n",
       "50%        0.500000  2.013201e+07  \n",
       "75%        1.000000  2.018202e+07  \n",
       "max        1.000000  2.019202e+07  "
      ]
     },
     "execution_count": 24,
     "metadata": {},
     "output_type": "execute_result"
    }
   ],
   "source": [
    "df.describe()"
   ]
  },
  {
   "cell_type": "code",
   "execution_count": null,
   "metadata": {},
   "outputs": [],
   "source": []
  }
 ],
 "metadata": {
  "kernelspec": {
   "display_name": "base",
   "language": "python",
   "name": "python3"
  },
  "language_info": {
   "codemirror_mode": {
    "name": "ipython",
    "version": 3
   },
   "file_extension": ".py",
   "mimetype": "text/x-python",
   "name": "python",
   "nbconvert_exporter": "python",
   "pygments_lexer": "ipython3",
   "version": "3.11.5"
  }
 },
 "nbformat": 4,
 "nbformat_minor": 2
}
